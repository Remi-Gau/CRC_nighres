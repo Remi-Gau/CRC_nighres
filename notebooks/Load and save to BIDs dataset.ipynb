{
 "cells": [
  {
   "cell_type": "markdown",
   "metadata": {},
   "source": [
    "# Fit BIDS dataset\n",
    "\n",
    "## BIDS format for MP2RAGE data\n",
    "\n",
    "When data is properly fitted according to the [BIDS neuroimaging data format](http://bids-apps.neuroimaging.io/), all necessary files and parameters can be automatically read in.\n",
    "\n",
    "For example, the `anat` folder of a subject might looks as follows:"
   ]
  },
  {
   "cell_type": "code",
   "execution_count": 1,
   "metadata": {},
   "outputs": [
    {
     "name": "stderr",
     "output_type": "stream",
     "text": [
      "Failed to import duecredit due to No module named 'duecredit'\n"
     ]
    }
   ],
   "source": [
    "from bids.grabbids import BIDSLayout"
   ]
  },
  {
   "cell_type": "code",
   "execution_count": 2,
   "metadata": {
    "collapsed": true
   },
   "outputs": [],
   "source": [
    "layout = BIDSLayout('/data/sourcedata/')"
   ]
  },
  {
   "cell_type": "code",
   "execution_count": 3,
   "metadata": {},
   "outputs": [
    {
     "data": {
      "text/plain": [
       "{'ExcitationRepetitionTime': 0.0062,\n",
       " 'FlipAngle': 7,\n",
       " 'InversionRepetitionTime': 5.5,\n",
       " 'InversionTime': 2.7,\n",
       " 'NumberShots': 159}"
      ]
     },
     "execution_count": 3,
     "metadata": {},
     "output_type": "execute_result"
    }
   ],
   "source": [
    "layout.get_metadata('/data/sourcedata/sub-01/anat/sub-01_acq-MP2RAGE_inv-2_part-mag_MP2RAGE.nii')"
   ]
  },
  {
   "cell_type": "code",
   "execution_count": 4,
   "metadata": {},
   "outputs": [
    {
     "name": "stdout",
     "output_type": "stream",
     "text": [
      "sub-01_acq-MP2RAGE_T1map.nii\r\n",
      "sub-01_acq-MP2RAGE_T1w.nii\r\n",
      "sub-01_acq-MP2RAGE_inv-1_MP2RAGE.json\r\n",
      "sub-01_acq-MP2RAGE_inv-1_part-mag_MP2RAGE.nii\r\n",
      "sub-01_acq-MP2RAGE_inv-1_part-phase_MP2RAGE.nii\r\n",
      "sub-01_acq-MP2RAGE_inv-2_MP2RAGE.json\r\n",
      "sub-01_acq-MP2RAGE_inv-2_part-mag_MP2RAGE.json\r\n",
      "sub-01_acq-MP2RAGE_inv-2_part-mag_MP2RAGE.nii\r\n",
      "sub-01_acq-MP2RAGE_inv-2_part-phase_MP2RAGE.nii\r\n"
     ]
    }
   ],
   "source": [
    "!ls /data/sourcedata/sub-01/anat"
   ]
  },
  {
   "cell_type": "markdown",
   "metadata": {},
   "source": [
    "The four nifti-files represent the magnitude (`mag`) and phase (`phase`) images of the first and second inversion times.\n",
    "\n",
    "The two \"sidecar\" json-files contain the imaging parameters that are necessary for fitting the T1 map"
   ]
  },
  {
   "cell_type": "code",
   "execution_count": 5,
   "metadata": {},
   "outputs": [
    {
     "name": "stdout",
     "output_type": "stream",
     "text": [
      "{\n",
      "\t\"InversionTime\":0.8,\n",
      "\t\"FlipAngle\":5,\n",
      "\t\"ExcitationRepetitionTime\":0.0062,\n",
      "\t\"InversionRepetitionTime\":5.5,\n",
      "\t\"NumberShots\":159\n",
      "}\n",
      "{\n",
      "\t\"InversionTime\":2.7,\n",
      "\t\"FlipAngle\":7,\n",
      "\t\"ExcitationRepetitionTime\":0.0062,\n",
      "\t\"InversionRepetitionTime\":5.5,\n",
      "\t\"NumberShots\":159\n",
      "}\n"
     ]
    }
   ],
   "source": [
    "!cat /data/sourcedata/sub-01/anat/sub-01_acq-MP2RAGE_inv-1_MP2RAGE.json\n",
    "!cat /data/sourcedata/sub-01/anat/sub-01_acq-MP2RAGE_inv-2_MP2RAGE.json"
   ]
  },
  {
   "cell_type": "markdown",
   "metadata": {},
   "source": [
    "## Load BIDS dataset\n",
    "\n",
    "The MP2RAGE.from_bids function can automatically create a MP2RAGE-object witht he right parameters, as set in the 'sidecar json'-iles"
   ]
  },
  {
   "cell_type": "code",
   "execution_count": 6,
   "metadata": {},
   "outputs": [],
   "source": [
    "from pymp2rage import MP2RAGE"
   ]
  },
  {
   "cell_type": "code",
   "execution_count": 7,
   "metadata": {},
   "outputs": [
    {
     "name": "stdout",
     "output_type": "stream",
     "text": [
      "Found following files:\n",
      " * inv1, magnitude: /data/sourcedata/sub-01/anat/sub-01_acq-MP2RAGE_inv-1_part-mag_MP2RAGE.nii\n",
      " * inv1, phase: /data/sourcedata/sub-01/anat/sub-01_acq-MP2RAGE_inv-1_part-phase_MP2RAGE.nii\n",
      " * inv2, magnitude: /data/sourcedata/sub-01/anat/sub-01_acq-MP2RAGE_inv-2_part-mag_MP2RAGE.nii\n",
      " * inv2, phase: /data/sourcedata/sub-01/anat/sub-01_acq-MP2RAGE_inv-2_part-phase_MP2RAGE.nii\n"
     ]
    }
   ],
   "source": [
    "mp2rage = MP2RAGE.from_bids(source_dir='/data/sourcedata/', subject='01')"
   ]
  },
  {
   "cell_type": "markdown",
   "metadata": {},
   "source": [
    "Parameters are now automatically set, based on the sidecar JSONs for example:"
   ]
  },
  {
   "cell_type": "code",
   "execution_count": 8,
   "metadata": {},
   "outputs": [
    {
     "data": {
      "text/plain": [
       "[0.0062, 0.0062]"
      ]
     },
     "execution_count": 8,
     "metadata": {},
     "output_type": "execute_result"
    }
   ],
   "source": [
    "mp2rage.FLASH_tr"
   ]
  },
  {
   "cell_type": "code",
   "execution_count": 9,
   "metadata": {},
   "outputs": [
    {
     "data": {
      "text/plain": [
       "[0.8, 2.7]"
      ]
     },
     "execution_count": 9,
     "metadata": {},
     "output_type": "execute_result"
    }
   ],
   "source": [
    "mp2rage.invtimesAB"
   ]
  },
  {
   "cell_type": "code",
   "execution_count": 10,
   "metadata": {},
   "outputs": [
    {
     "data": {
      "text/plain": [
       "159"
      ]
     },
     "execution_count": 10,
     "metadata": {},
     "output_type": "execute_result"
    }
   ],
   "source": [
    "mp2rage.nZslices"
   ]
  },
  {
   "cell_type": "markdown",
   "metadata": {},
   "source": [
    "## Save BIDS dataset\n",
    "\n",
    "The MP2RAGE-object can also automatically writes its bias-field corrected T1-weighted image quantitative T1 map to the BIDS folder it was loaded from"
   ]
  },
  {
   "cell_type": "code",
   "execution_count": 11,
   "metadata": {},
   "outputs": [
    {
     "name": "stdout",
     "output_type": "stream",
     "text": [
      "Writing T1 map to /data/sourcedata/sub-01/anat/sub-01_acq-MP2RAGE_T1map.nii\n"
     ]
    },
    {
     "name": "stderr",
     "output_type": "stream",
     "text": [
      "/Users/gilles/git/pymp2rage/pymp2rage/mp2rage.py:175: RuntimeWarning: invalid value encountered in true_divide\n",
      "  self._t1w_uni = (np.real(compINV1*compINV2/(compINV1**2 + compINV2**2)))*4095+2048\n"
     ]
    },
    {
     "name": "stdout",
     "output_type": "stream",
     "text": [
      "Writing bias-field corrected T1-weighted image to /data/sourcedata/sub-01/anat/sub-01_acq-MP2RAGE_T1w.nii\n"
     ]
    }
   ],
   "source": [
    "mp2rage.write_files(compress=False)"
   ]
  },
  {
   "cell_type": "code",
   "execution_count": 12,
   "metadata": {},
   "outputs": [
    {
     "name": "stdout",
     "output_type": "stream",
     "text": [
      "sub-01_acq-MP2RAGE_T1map.nii\r\n",
      "sub-01_acq-MP2RAGE_T1w.nii\r\n",
      "sub-01_acq-MP2RAGE_inv-1_MP2RAGE.json\r\n",
      "sub-01_acq-MP2RAGE_inv-1_part-mag_MP2RAGE.nii\r\n",
      "sub-01_acq-MP2RAGE_inv-1_part-phase_MP2RAGE.nii\r\n",
      "sub-01_acq-MP2RAGE_inv-2_MP2RAGE.json\r\n",
      "sub-01_acq-MP2RAGE_inv-2_part-mag_MP2RAGE.json\r\n",
      "sub-01_acq-MP2RAGE_inv-2_part-mag_MP2RAGE.nii\r\n",
      "sub-01_acq-MP2RAGE_inv-2_part-phase_MP2RAGE.nii\r\n"
     ]
    }
   ],
   "source": [
    "!ls /data/sourcedata/sub-01/anat"
   ]
  },
  {
   "cell_type": "markdown",
   "metadata": {},
   "source": [
    "You can also write them to a different directory, with a different name"
   ]
  },
  {
   "cell_type": "code",
   "execution_count": 13,
   "metadata": {},
   "outputs": [],
   "source": [
    "!mkdir /tmp/test1"
   ]
  },
  {
   "cell_type": "code",
   "execution_count": 14,
   "metadata": {},
   "outputs": [
    {
     "name": "stdout",
     "output_type": "stream",
     "text": [
      "Writing T1 map to /tmp/test1/test_T1map.nii.gz\n",
      "Writing bias-field corrected T1-weighted image to /tmp/test1/test_T1w.nii.gz\n"
     ]
    }
   ],
   "source": [
    "mp2rage.write_files(path='/tmp/test1', prefix='test')"
   ]
  },
  {
   "cell_type": "code",
   "execution_count": 15,
   "metadata": {},
   "outputs": [
    {
     "name": "stdout",
     "output_type": "stream",
     "text": [
      "test_T1map.nii.gz test_T1w.nii.gz\r\n"
     ]
    }
   ],
   "source": [
    "!ls /tmp/test1"
   ]
  },
  {
   "cell_type": "code",
   "execution_count": null,
   "metadata": {
    "collapsed": true
   },
   "outputs": [],
   "source": []
  }
 ],
 "metadata": {
  "kernelspec": {
   "display_name": "Python 3",
   "language": "python",
   "name": "python3"
  },
  "language_info": {
   "codemirror_mode": {
    "name": "ipython",
    "version": 3
   },
   "file_extension": ".py",
   "mimetype": "text/x-python",
   "name": "python",
   "nbconvert_exporter": "python",
   "pygments_lexer": "ipython3",
   "version": "3.6.1"
  }
 },
 "nbformat": 4,
 "nbformat_minor": 2
}
